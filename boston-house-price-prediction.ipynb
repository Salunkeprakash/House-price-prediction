{
 "cells": [
  {
   "cell_type": "markdown",
   "metadata": {
    "papermill": {
     "duration": 0.039543,
     "end_time": "2020-12-31T19:42:48.846675",
     "exception": false,
     "start_time": "2020-12-31T19:42:48.807132",
     "status": "completed"
    },
    "tags": []
   },
   "source": [
    "# *Problem Statement & Approach :*\n",
    " We have a dataset of Boston house prices with some features. Our task is to  to make a model which can give us a good prediction on the price of the house based on the features. We are going to use Linear Regression, Decision Tree Regressor and Random Forest Regressor for this dataset and evaluate these models based on the performace metrics."
   ]
  },
  {
   "cell_type": "markdown",
   "metadata": {
    "papermill": {
     "duration": 0.037799,
     "end_time": "2020-12-31T19:42:48.922851",
     "exception": false,
     "start_time": "2020-12-31T19:42:48.885052",
     "status": "completed"
    },
    "tags": []
   },
   "source": [
    "## Dataset Features"
   ]
  },
  {
   "cell_type": "markdown",
   "metadata": {
    "papermill": {
     "duration": 0.043874,
     "end_time": "2020-12-31T19:42:49.004271",
     "exception": false,
     "start_time": "2020-12-31T19:42:48.960397",
     "status": "completed"
    },
    "tags": []
   },
   "source": [
    "    1. CRIM      per capita crime rate by town\n",
    "    2. ZN        proportion of residential land zoned for lots over \n",
    "                 25,000 sq.ft.\n",
    "    3. INDUS     proportion of non-retail business acres per town\n",
    "    4. CHAS      Charles River dummy variable (= 1 if tract bounds \n",
    "                 river; 0 otherwise)\n",
    "    5. NOX       nitric oxides concentration (parts per 10 million)\n",
    "    6. RM        average number of rooms per dwelling\n",
    "    7. AGE       proportion of owner-occupied units built prior to 1940\n",
    "    8. DIS       weighted distances to five Boston employment centres\n",
    "    9. RAD       index of accessibility to radial highways\n",
    "    10. TAX      full-value property-tax rate per $ 10,000\n",
    "    11. PTRATIO  pupil-teacher ratio by town\n",
    "    12. B        1000(Bk - 0.63)^2 where Bk is the proportion of blacks \n",
    "                 by town\n",
    "    13. LSTAT    % lower status of the population\n",
    "    14. MEDV     Median value of owner-occupied homes in $1000's"
   ]
  },
  {
   "cell_type": "markdown",
   "metadata": {
    "papermill": {
     "duration": 0.038194,
     "end_time": "2020-12-31T19:42:49.080103",
     "exception": false,
     "start_time": "2020-12-31T19:42:49.041909",
     "status": "completed"
    },
    "tags": []
   },
   "source": [
    "## *Importing Libraries*"
   ]
  },
  {
   "cell_type": "code",
   "execution_count": 1,
   "metadata": {
    "execution": {
     "iopub.execute_input": "2020-12-31T19:42:49.164053Z",
     "iopub.status.busy": "2020-12-31T19:42:49.163366Z",
     "iopub.status.idle": "2020-12-31T19:42:50.522327Z",
     "shell.execute_reply": "2020-12-31T19:42:50.521657Z"
    },
    "papermill": {
     "duration": 1.404085,
     "end_time": "2020-12-31T19:42:50.522456",
     "exception": false,
     "start_time": "2020-12-31T19:42:49.118371",
     "status": "completed"
    },
    "tags": []
   },
   "outputs": [],
   "source": [
    "import pandas as pd\n",
    "import numpy as np\n",
    "import seaborn as sns\n",
    "from sklearn import metrics\n",
    "%matplotlib inline\n",
    "import matplotlib.pyplot as plt"
   ]
  },
  {
   "cell_type": "markdown",
   "metadata": {
    "papermill": {
     "duration": 0.037631,
     "end_time": "2020-12-31T19:42:50.598796",
     "exception": false,
     "start_time": "2020-12-31T19:42:50.561165",
     "status": "completed"
    },
    "tags": []
   },
   "source": [
    "# *Importing Data* "
   ]
  },
  {
   "cell_type": "code",
   "execution_count": 2,
   "metadata": {
    "execution": {
     "iopub.execute_input": "2020-12-31T19:42:50.688765Z",
     "iopub.status.busy": "2020-12-31T19:42:50.688070Z",
     "iopub.status.idle": "2020-12-31T19:42:50.705994Z",
     "shell.execute_reply": "2020-12-31T19:42:50.705271Z"
    },
    "papermill": {
     "duration": 0.069016,
     "end_time": "2020-12-31T19:42:50.706110",
     "exception": false,
     "start_time": "2020-12-31T19:42:50.637094",
     "status": "completed"
    },
    "tags": []
   },
   "outputs": [],
   "source": [
    "housing = pd.read_csv(r\"../input/housing-data/Data.csv\")"
   ]
  },
  {
   "cell_type": "code",
   "execution_count": 3,
   "metadata": {
    "execution": {
     "iopub.execute_input": "2020-12-31T19:42:50.805009Z",
     "iopub.status.busy": "2020-12-31T19:42:50.804222Z",
     "iopub.status.idle": "2020-12-31T19:42:50.820341Z",
     "shell.execute_reply": "2020-12-31T19:42:50.819618Z"
    },
    "papermill": {
     "duration": 0.076405,
     "end_time": "2020-12-31T19:42:50.820464",
     "exception": false,
     "start_time": "2020-12-31T19:42:50.744059",
     "status": "completed"
    },
    "scrolled": true,
    "tags": []
   },
   "outputs": [
    {
     "data": {
      "text/html": [
       "<div>\n",
       "<style scoped>\n",
       "    .dataframe tbody tr th:only-of-type {\n",
       "        vertical-align: middle;\n",
       "    }\n",
       "\n",
       "    .dataframe tbody tr th {\n",
       "        vertical-align: top;\n",
       "    }\n",
       "\n",
       "    .dataframe thead th {\n",
       "        text-align: right;\n",
       "    }\n",
       "</style>\n",
       "<table border=\"1\" class=\"dataframe\">\n",
       "  <thead>\n",
       "    <tr style=\"text-align: right;\">\n",
       "      <th></th>\n",
       "      <th>CRIM</th>\n",
       "      <th>ZN</th>\n",
       "      <th>INDUS</th>\n",
       "      <th>CHAS</th>\n",
       "      <th>NOX</th>\n",
       "      <th>RM</th>\n",
       "      <th>AGE</th>\n",
       "      <th>DIS</th>\n",
       "      <th>RAD</th>\n",
       "      <th>TAX</th>\n",
       "      <th>PTRATIO</th>\n",
       "      <th>B</th>\n",
       "      <th>LSTAT</th>\n",
       "      <th>MEDV</th>\n",
       "    </tr>\n",
       "  </thead>\n",
       "  <tbody>\n",
       "    <tr>\n",
       "      <th>0</th>\n",
       "      <td>0.00632</td>\n",
       "      <td>18.0</td>\n",
       "      <td>2.31</td>\n",
       "      <td>0</td>\n",
       "      <td>0.538</td>\n",
       "      <td>6.575</td>\n",
       "      <td>65.2</td>\n",
       "      <td>4.0900</td>\n",
       "      <td>1</td>\n",
       "      <td>296</td>\n",
       "      <td>15.3</td>\n",
       "      <td>396.90</td>\n",
       "      <td>4.98</td>\n",
       "      <td>24.0</td>\n",
       "    </tr>\n",
       "    <tr>\n",
       "      <th>1</th>\n",
       "      <td>0.02731</td>\n",
       "      <td>0.0</td>\n",
       "      <td>7.07</td>\n",
       "      <td>0</td>\n",
       "      <td>0.469</td>\n",
       "      <td>6.421</td>\n",
       "      <td>78.9</td>\n",
       "      <td>4.9671</td>\n",
       "      <td>2</td>\n",
       "      <td>242</td>\n",
       "      <td>17.8</td>\n",
       "      <td>396.90</td>\n",
       "      <td>9.14</td>\n",
       "      <td>21.6</td>\n",
       "    </tr>\n",
       "    <tr>\n",
       "      <th>2</th>\n",
       "      <td>0.02729</td>\n",
       "      <td>0.0</td>\n",
       "      <td>7.07</td>\n",
       "      <td>0</td>\n",
       "      <td>0.469</td>\n",
       "      <td>7.185</td>\n",
       "      <td>61.1</td>\n",
       "      <td>4.9671</td>\n",
       "      <td>2</td>\n",
       "      <td>242</td>\n",
       "      <td>17.8</td>\n",
       "      <td>392.83</td>\n",
       "      <td>4.03</td>\n",
       "      <td>34.7</td>\n",
       "    </tr>\n",
       "    <tr>\n",
       "      <th>3</th>\n",
       "      <td>0.03237</td>\n",
       "      <td>0.0</td>\n",
       "      <td>2.18</td>\n",
       "      <td>0</td>\n",
       "      <td>0.458</td>\n",
       "      <td>6.998</td>\n",
       "      <td>45.8</td>\n",
       "      <td>6.0622</td>\n",
       "      <td>3</td>\n",
       "      <td>222</td>\n",
       "      <td>18.7</td>\n",
       "      <td>394.63</td>\n",
       "      <td>2.94</td>\n",
       "      <td>33.4</td>\n",
       "    </tr>\n",
       "    <tr>\n",
       "      <th>4</th>\n",
       "      <td>0.06905</td>\n",
       "      <td>0.0</td>\n",
       "      <td>2.18</td>\n",
       "      <td>0</td>\n",
       "      <td>0.458</td>\n",
       "      <td>7.147</td>\n",
       "      <td>54.2</td>\n",
       "      <td>6.0622</td>\n",
       "      <td>3</td>\n",
       "      <td>222</td>\n",
       "      <td>18.7</td>\n",
       "      <td>396.90</td>\n",
       "      <td>5.33</td>\n",
       "      <td>36.2</td>\n",
       "    </tr>\n",
       "  </tbody>\n",
       "</table>\n",
       "</div>"
      ],
      "text/plain": [
       "      CRIM    ZN  INDUS  CHAS    NOX     RM   AGE     DIS  RAD  TAX  PTRATIO  \\\n",
       "0  0.00632  18.0   2.31     0  0.538  6.575  65.2  4.0900    1  296     15.3   \n",
       "1  0.02731   0.0   7.07     0  0.469  6.421  78.9  4.9671    2  242     17.8   \n",
       "2  0.02729   0.0   7.07     0  0.469  7.185  61.1  4.9671    2  242     17.8   \n",
       "3  0.03237   0.0   2.18     0  0.458  6.998  45.8  6.0622    3  222     18.7   \n",
       "4  0.06905   0.0   2.18     0  0.458  7.147  54.2  6.0622    3  222     18.7   \n",
       "\n",
       "        B  LSTAT  MEDV  \n",
       "0  396.90   4.98  24.0  \n",
       "1  396.90   9.14  21.6  \n",
       "2  392.83   4.03  34.7  \n",
       "3  394.63   2.94  33.4  \n",
       "4  396.90   5.33  36.2  "
      ]
     },
     "execution_count": 3,
     "metadata": {},
     "output_type": "execute_result"
    }
   ],
   "source": [
    "housing.head()#overview of data"
   ]
  },
  {
   "cell_type": "code",
   "execution_count": 4,
   "metadata": {
    "execution": {
     "iopub.execute_input": "2020-12-31T19:42:50.904399Z",
     "iopub.status.busy": "2020-12-31T19:42:50.903391Z",
     "iopub.status.idle": "2020-12-31T19:42:50.907953Z",
     "shell.execute_reply": "2020-12-31T19:42:50.908476Z"
    },
    "papermill": {
     "duration": 0.049045,
     "end_time": "2020-12-31T19:42:50.908628",
     "exception": false,
     "start_time": "2020-12-31T19:42:50.859583",
     "status": "completed"
    },
    "tags": []
   },
   "outputs": [
    {
     "data": {
      "text/plain": [
       "(506, 14)"
      ]
     },
     "execution_count": 4,
     "metadata": {},
     "output_type": "execute_result"
    }
   ],
   "source": [
    "#shape of data \n",
    "housing.shape"
   ]
  },
  {
   "cell_type": "markdown",
   "metadata": {
    "papermill": {
     "duration": 0.042823,
     "end_time": "2020-12-31T19:42:50.991721",
     "exception": false,
     "start_time": "2020-12-31T19:42:50.948898",
     "status": "completed"
    },
    "tags": []
   },
   "source": [
    "There are 506 observations of 13 features with a target column price."
   ]
  },
  {
   "cell_type": "code",
   "execution_count": 5,
   "metadata": {
    "execution": {
     "iopub.execute_input": "2020-12-31T19:42:51.091849Z",
     "iopub.status.busy": "2020-12-31T19:42:51.090756Z",
     "iopub.status.idle": "2020-12-31T19:42:51.093356Z",
     "shell.execute_reply": "2020-12-31T19:42:51.093972Z"
    },
    "papermill": {
     "duration": 0.055014,
     "end_time": "2020-12-31T19:42:51.094123",
     "exception": false,
     "start_time": "2020-12-31T19:42:51.039109",
     "status": "completed"
    },
    "tags": []
   },
   "outputs": [],
   "source": [
    "#rename the column MEDV \n",
    "housing.rename(columns={\"MEDV\":\"Price\"}, inplace=True)"
   ]
  },
  {
   "cell_type": "code",
   "execution_count": 6,
   "metadata": {
    "execution": {
     "iopub.execute_input": "2020-12-31T19:42:51.184046Z",
     "iopub.status.busy": "2020-12-31T19:42:51.183140Z",
     "iopub.status.idle": "2020-12-31T19:42:51.187613Z",
     "shell.execute_reply": "2020-12-31T19:42:51.187073Z"
    },
    "papermill": {
     "duration": 0.051357,
     "end_time": "2020-12-31T19:42:51.187735",
     "exception": false,
     "start_time": "2020-12-31T19:42:51.136378",
     "status": "completed"
    },
    "tags": []
   },
   "outputs": [
    {
     "data": {
      "text/plain": [
       "Index(['CRIM', 'ZN', 'INDUS', 'CHAS', 'NOX', 'RM', 'AGE', 'DIS', 'RAD', 'TAX',\n",
       "       'PTRATIO', 'B', 'LSTAT', 'Price'],\n",
       "      dtype='object')"
      ]
     },
     "execution_count": 6,
     "metadata": {},
     "output_type": "execute_result"
    }
   ],
   "source": [
    "# To see the columns\n",
    "housing.columns"
   ]
  },
  {
   "cell_type": "code",
   "execution_count": 7,
   "metadata": {
    "execution": {
     "iopub.execute_input": "2020-12-31T19:42:51.280350Z",
     "iopub.status.busy": "2020-12-31T19:42:51.279246Z",
     "iopub.status.idle": "2020-12-31T19:42:51.284364Z",
     "shell.execute_reply": "2020-12-31T19:42:51.283652Z"
    },
    "papermill": {
     "duration": 0.056221,
     "end_time": "2020-12-31T19:42:51.284483",
     "exception": false,
     "start_time": "2020-12-31T19:42:51.228262",
     "status": "completed"
    },
    "tags": []
   },
   "outputs": [
    {
     "data": {
      "text/plain": [
       "CRIM       0\n",
       "ZN         0\n",
       "INDUS      0\n",
       "CHAS       0\n",
       "NOX        0\n",
       "RM         0\n",
       "AGE        0\n",
       "DIS        0\n",
       "RAD        0\n",
       "TAX        0\n",
       "PTRATIO    0\n",
       "B          0\n",
       "LSTAT      0\n",
       "Price      0\n",
       "dtype: int64"
      ]
     },
     "execution_count": 7,
     "metadata": {},
     "output_type": "execute_result"
    }
   ],
   "source": [
    "#check for null values\n",
    "housing.isnull().sum()"
   ]
  },
  {
   "cell_type": "markdown",
   "metadata": {
    "papermill": {
     "duration": 0.040231,
     "end_time": "2020-12-31T19:42:51.365110",
     "exception": false,
     "start_time": "2020-12-31T19:42:51.324879",
     "status": "completed"
    },
    "tags": []
   },
   "source": [
    "## **Exploratory Data Analysis:** "
   ]
  },
  {
   "cell_type": "code",
   "execution_count": 8,
   "metadata": {
    "execution": {
     "iopub.execute_input": "2020-12-31T19:42:51.464125Z",
     "iopub.status.busy": "2020-12-31T19:42:51.463404Z",
     "iopub.status.idle": "2020-12-31T19:42:51.468642Z",
     "shell.execute_reply": "2020-12-31T19:42:51.469374Z"
    },
    "papermill": {
     "duration": 0.063518,
     "end_time": "2020-12-31T19:42:51.469534",
     "exception": false,
     "start_time": "2020-12-31T19:42:51.406016",
     "status": "completed"
    },
    "tags": []
   },
   "outputs": [
    {
     "name": "stdout",
     "output_type": "stream",
     "text": [
      "<class 'pandas.core.frame.DataFrame'>\n",
      "RangeIndex: 506 entries, 0 to 505\n",
      "Data columns (total 14 columns):\n",
      " #   Column   Non-Null Count  Dtype  \n",
      "---  ------   --------------  -----  \n",
      " 0   CRIM     506 non-null    float64\n",
      " 1   ZN       506 non-null    float64\n",
      " 2   INDUS    506 non-null    float64\n",
      " 3   CHAS     506 non-null    int64  \n",
      " 4   NOX      506 non-null    float64\n",
      " 5   RM       506 non-null    float64\n",
      " 6   AGE      506 non-null    float64\n",
      " 7   DIS      506 non-null    float64\n",
      " 8   RAD      506 non-null    int64  \n",
      " 9   TAX      506 non-null    int64  \n",
      " 10  PTRATIO  506 non-null    float64\n",
      " 11  B        506 non-null    float64\n",
      " 12  LSTAT    506 non-null    float64\n",
      " 13  Price    506 non-null    float64\n",
      "dtypes: float64(11), int64(3)\n",
      "memory usage: 55.5 KB\n"
     ]
    }
   ],
   "source": [
    "housing.info()#summary of dataset"
   ]
  },
  {
   "cell_type": "code",
   "execution_count": 9,
   "metadata": {
    "execution": {
     "iopub.execute_input": "2020-12-31T19:42:51.561778Z",
     "iopub.status.busy": "2020-12-31T19:42:51.561082Z",
     "iopub.status.idle": "2020-12-31T19:42:51.625370Z",
     "shell.execute_reply": "2020-12-31T19:42:51.624697Z"
    },
    "papermill": {
     "duration": 0.113506,
     "end_time": "2020-12-31T19:42:51.625493",
     "exception": false,
     "start_time": "2020-12-31T19:42:51.511987",
     "status": "completed"
    },
    "tags": []
   },
   "outputs": [
    {
     "data": {
      "text/html": [
       "<div>\n",
       "<style scoped>\n",
       "    .dataframe tbody tr th:only-of-type {\n",
       "        vertical-align: middle;\n",
       "    }\n",
       "\n",
       "    .dataframe tbody tr th {\n",
       "        vertical-align: top;\n",
       "    }\n",
       "\n",
       "    .dataframe thead th {\n",
       "        text-align: right;\n",
       "    }\n",
       "</style>\n",
       "<table border=\"1\" class=\"dataframe\">\n",
       "  <thead>\n",
       "    <tr style=\"text-align: right;\">\n",
       "      <th></th>\n",
       "      <th>CRIM</th>\n",
       "      <th>ZN</th>\n",
       "      <th>INDUS</th>\n",
       "      <th>CHAS</th>\n",
       "      <th>NOX</th>\n",
       "      <th>RM</th>\n",
       "      <th>AGE</th>\n",
       "      <th>DIS</th>\n",
       "      <th>RAD</th>\n",
       "      <th>TAX</th>\n",
       "      <th>PTRATIO</th>\n",
       "      <th>B</th>\n",
       "      <th>LSTAT</th>\n",
       "      <th>Price</th>\n",
       "    </tr>\n",
       "  </thead>\n",
       "  <tbody>\n",
       "    <tr>\n",
       "      <th>count</th>\n",
       "      <td>506.000000</td>\n",
       "      <td>506.000000</td>\n",
       "      <td>506.000000</td>\n",
       "      <td>506.000000</td>\n",
       "      <td>506.000000</td>\n",
       "      <td>506.000000</td>\n",
       "      <td>506.000000</td>\n",
       "      <td>506.000000</td>\n",
       "      <td>506.000000</td>\n",
       "      <td>506.000000</td>\n",
       "      <td>506.000000</td>\n",
       "      <td>506.000000</td>\n",
       "      <td>506.000000</td>\n",
       "      <td>506.000000</td>\n",
       "    </tr>\n",
       "    <tr>\n",
       "      <th>mean</th>\n",
       "      <td>3.613524</td>\n",
       "      <td>11.363636</td>\n",
       "      <td>11.136779</td>\n",
       "      <td>0.069170</td>\n",
       "      <td>0.554695</td>\n",
       "      <td>6.284634</td>\n",
       "      <td>68.574901</td>\n",
       "      <td>3.795043</td>\n",
       "      <td>9.549407</td>\n",
       "      <td>408.237154</td>\n",
       "      <td>18.455534</td>\n",
       "      <td>356.674032</td>\n",
       "      <td>12.653063</td>\n",
       "      <td>22.532806</td>\n",
       "    </tr>\n",
       "    <tr>\n",
       "      <th>std</th>\n",
       "      <td>8.601545</td>\n",
       "      <td>23.322453</td>\n",
       "      <td>6.860353</td>\n",
       "      <td>0.253994</td>\n",
       "      <td>0.115878</td>\n",
       "      <td>0.702617</td>\n",
       "      <td>28.148861</td>\n",
       "      <td>2.105710</td>\n",
       "      <td>8.707259</td>\n",
       "      <td>168.537116</td>\n",
       "      <td>2.164946</td>\n",
       "      <td>91.294864</td>\n",
       "      <td>7.141062</td>\n",
       "      <td>9.197104</td>\n",
       "    </tr>\n",
       "    <tr>\n",
       "      <th>min</th>\n",
       "      <td>0.006320</td>\n",
       "      <td>0.000000</td>\n",
       "      <td>0.460000</td>\n",
       "      <td>0.000000</td>\n",
       "      <td>0.385000</td>\n",
       "      <td>3.561000</td>\n",
       "      <td>2.900000</td>\n",
       "      <td>1.129600</td>\n",
       "      <td>1.000000</td>\n",
       "      <td>187.000000</td>\n",
       "      <td>12.600000</td>\n",
       "      <td>0.320000</td>\n",
       "      <td>1.730000</td>\n",
       "      <td>5.000000</td>\n",
       "    </tr>\n",
       "    <tr>\n",
       "      <th>25%</th>\n",
       "      <td>0.082045</td>\n",
       "      <td>0.000000</td>\n",
       "      <td>5.190000</td>\n",
       "      <td>0.000000</td>\n",
       "      <td>0.449000</td>\n",
       "      <td>5.885500</td>\n",
       "      <td>45.025000</td>\n",
       "      <td>2.100175</td>\n",
       "      <td>4.000000</td>\n",
       "      <td>279.000000</td>\n",
       "      <td>17.400000</td>\n",
       "      <td>375.377500</td>\n",
       "      <td>6.950000</td>\n",
       "      <td>17.025000</td>\n",
       "    </tr>\n",
       "    <tr>\n",
       "      <th>50%</th>\n",
       "      <td>0.256510</td>\n",
       "      <td>0.000000</td>\n",
       "      <td>9.690000</td>\n",
       "      <td>0.000000</td>\n",
       "      <td>0.538000</td>\n",
       "      <td>6.208500</td>\n",
       "      <td>77.500000</td>\n",
       "      <td>3.207450</td>\n",
       "      <td>5.000000</td>\n",
       "      <td>330.000000</td>\n",
       "      <td>19.050000</td>\n",
       "      <td>391.440000</td>\n",
       "      <td>11.360000</td>\n",
       "      <td>21.200000</td>\n",
       "    </tr>\n",
       "    <tr>\n",
       "      <th>75%</th>\n",
       "      <td>3.677082</td>\n",
       "      <td>12.500000</td>\n",
       "      <td>18.100000</td>\n",
       "      <td>0.000000</td>\n",
       "      <td>0.624000</td>\n",
       "      <td>6.623500</td>\n",
       "      <td>94.075000</td>\n",
       "      <td>5.188425</td>\n",
       "      <td>24.000000</td>\n",
       "      <td>666.000000</td>\n",
       "      <td>20.200000</td>\n",
       "      <td>396.225000</td>\n",
       "      <td>16.955000</td>\n",
       "      <td>25.000000</td>\n",
       "    </tr>\n",
       "    <tr>\n",
       "      <th>max</th>\n",
       "      <td>88.976200</td>\n",
       "      <td>100.000000</td>\n",
       "      <td>27.740000</td>\n",
       "      <td>1.000000</td>\n",
       "      <td>0.871000</td>\n",
       "      <td>8.780000</td>\n",
       "      <td>100.000000</td>\n",
       "      <td>12.126500</td>\n",
       "      <td>24.000000</td>\n",
       "      <td>711.000000</td>\n",
       "      <td>22.000000</td>\n",
       "      <td>396.900000</td>\n",
       "      <td>37.970000</td>\n",
       "      <td>50.000000</td>\n",
       "    </tr>\n",
       "  </tbody>\n",
       "</table>\n",
       "</div>"
      ],
      "text/plain": [
       "             CRIM          ZN       INDUS        CHAS         NOX          RM  \\\n",
       "count  506.000000  506.000000  506.000000  506.000000  506.000000  506.000000   \n",
       "mean     3.613524   11.363636   11.136779    0.069170    0.554695    6.284634   \n",
       "std      8.601545   23.322453    6.860353    0.253994    0.115878    0.702617   \n",
       "min      0.006320    0.000000    0.460000    0.000000    0.385000    3.561000   \n",
       "25%      0.082045    0.000000    5.190000    0.000000    0.449000    5.885500   \n",
       "50%      0.256510    0.000000    9.690000    0.000000    0.538000    6.208500   \n",
       "75%      3.677082   12.500000   18.100000    0.000000    0.624000    6.623500   \n",
       "max     88.976200  100.000000   27.740000    1.000000    0.871000    8.780000   \n",
       "\n",
       "              AGE         DIS         RAD         TAX     PTRATIO           B  \\\n",
       "count  506.000000  506.000000  506.000000  506.000000  506.000000  506.000000   \n",
       "mean    68.574901    3.795043    9.549407  408.237154   18.455534  356.674032   \n",
       "std     28.148861    2.105710    8.707259  168.537116    2.164946   91.294864   \n",
       "min      2.900000    1.129600    1.000000  187.000000   12.600000    0.320000   \n",
       "25%     45.025000    2.100175    4.000000  279.000000   17.400000  375.377500   \n",
       "50%     77.500000    3.207450    5.000000  330.000000   19.050000  391.440000   \n",
       "75%     94.075000    5.188425   24.000000  666.000000   20.200000  396.225000   \n",
       "max    100.000000   12.126500   24.000000  711.000000   22.000000  396.900000   \n",
       "\n",
       "            LSTAT       Price  \n",
       "count  506.000000  506.000000  \n",
       "mean    12.653063   22.532806  \n",
       "std      7.141062    9.197104  \n",
       "min      1.730000    5.000000  \n",
       "25%      6.950000   17.025000  \n",
       "50%     11.360000   21.200000  \n",
       "75%     16.955000   25.000000  \n",
       "max     37.970000   50.000000  "
      ]
     },
     "execution_count": 9,
     "metadata": {},
     "output_type": "execute_result"
    }
   ],
   "source": [
    "housing.describe()#statistical summary of dataset"
   ]
  },
  {
   "cell_type": "code",
   "execution_count": 10,
   "metadata": {
    "execution": {
     "iopub.execute_input": "2020-12-31T19:42:51.718063Z",
     "iopub.status.busy": "2020-12-31T19:42:51.717346Z",
     "iopub.status.idle": "2020-12-31T19:42:51.722089Z",
     "shell.execute_reply": "2020-12-31T19:42:51.721453Z"
    },
    "papermill": {
     "duration": 0.054374,
     "end_time": "2020-12-31T19:42:51.722239",
     "exception": false,
     "start_time": "2020-12-31T19:42:51.667865",
     "status": "completed"
    },
    "tags": []
   },
   "outputs": [
    {
     "data": {
      "text/plain": [
       "0    471\n",
       "1     35\n",
       "Name: CHAS, dtype: int64"
      ]
     },
     "execution_count": 10,
     "metadata": {},
     "output_type": "execute_result"
    }
   ],
   "source": [
    "housing['CHAS'].value_counts()#categorical variable"
   ]
  },
  {
   "cell_type": "code",
   "execution_count": 11,
   "metadata": {
    "execution": {
     "iopub.execute_input": "2020-12-31T19:42:51.816384Z",
     "iopub.status.busy": "2020-12-31T19:42:51.815693Z",
     "iopub.status.idle": "2020-12-31T19:42:51.982308Z",
     "shell.execute_reply": "2020-12-31T19:42:51.981541Z"
    },
    "papermill": {
     "duration": 0.217066,
     "end_time": "2020-12-31T19:42:51.982435",
     "exception": false,
     "start_time": "2020-12-31T19:42:51.765369",
     "status": "completed"
    },
    "tags": []
   },
   "outputs": [
    {
     "data": {
      "text/plain": [
       "<matplotlib.axes._subplots.AxesSubplot at 0x7fa0f536a950>"
      ]
     },
     "execution_count": 11,
     "metadata": {},
     "output_type": "execute_result"
    },
    {
     "data": {
      "image/png": "[encoded data removed]",
      "text/plain": [
       "<Figure size 432x288 with 1 Axes>"
      ]
     },
     "metadata": {
      "needs_background": "light"
     },
     "output_type": "display_data"
    }
   ],
   "source": [
    "#visualisation of CHAS values\n",
    "sns.countplot(x=\"CHAS\",data=housing)"
   ]
  },
  {
   "cell_type": "markdown",
   "metadata": {
    "papermill": {
     "duration": 0.043158,
     "end_time": "2020-12-31T19:42:52.069488",
     "exception": false,
     "start_time": "2020-12-31T19:42:52.026330",
     "status": "completed"
    },
    "tags": []
   },
   "source": [
    "## *Feature Observation:*"
   ]
  },
  {
   "cell_type": "code",
   "execution_count": 12,
   "metadata": {
    "execution": {
     "iopub.execute_input": "2020-12-31T19:42:52.166425Z",
     "iopub.status.busy": "2020-12-31T19:42:52.165565Z",
     "iopub.status.idle": "2020-12-31T19:42:52.169873Z",
     "shell.execute_reply": "2020-12-31T19:42:52.169056Z"
    },
    "papermill": {
     "duration": 0.056374,
     "end_time": "2020-12-31T19:42:52.169996",
     "exception": false,
     "start_time": "2020-12-31T19:42:52.113622",
     "status": "completed"
    },
    "tags": []
   },
   "outputs": [],
   "source": [
    "#corelation b/w columns\n",
    "corr_matrix=housing.corr()"
   ]
  },
  {
   "cell_type": "code",
   "execution_count": 13,
   "metadata": {
    "execution": {
     "iopub.execute_input": "2020-12-31T19:42:52.265522Z",
     "iopub.status.busy": "2020-12-31T19:42:52.264705Z",
     "iopub.status.idle": "2020-12-31T19:42:52.271260Z",
     "shell.execute_reply": "2020-12-31T19:42:52.271842Z"
    },
    "papermill": {
     "duration": 0.058264,
     "end_time": "2020-12-31T19:42:52.271987",
     "exception": false,
     "start_time": "2020-12-31T19:42:52.213723",
     "status": "completed"
    },
    "tags": []
   },
   "outputs": [
    {
     "data": {
      "text/plain": [
       "Price      1.000000\n",
       "RM         0.695360\n",
       "ZN         0.360445\n",
       "B          0.333461\n",
       "DIS        0.249929\n",
       "CHAS       0.175260\n",
       "AGE       -0.376955\n",
       "RAD       -0.381626\n",
       "CRIM      -0.388305\n",
       "NOX       -0.427321\n",
       "TAX       -0.468536\n",
       "INDUS     -0.483725\n",
       "PTRATIO   -0.507787\n",
       "LSTAT     -0.737663\n",
       "Name: Price, dtype: float64"
      ]
     },
     "execution_count": 13,
     "metadata": {},
     "output_type": "execute_result"
    }
   ],
   "source": [
    "#here we see the correlation of other features with Price\n",
    "corr_matrix['Price'].sort_values(ascending=False)"
   ]
  },
  {
   "cell_type": "markdown",
   "metadata": {
    "papermill": {
     "duration": 0.044005,
     "end_time": "2020-12-31T19:42:52.360611",
     "exception": false,
     "start_time": "2020-12-31T19:42:52.316606",
     "status": "completed"
    },
    "tags": []
   },
   "source": [
    "##### As we can see that RM has high positive correlation with Price and  LSTAT has negative correlation with Price. We can see these correlation through visualisation also."
   ]
  },
  {
   "cell_type": "code",
   "execution_count": 14,
   "metadata": {
    "execution": {
     "iopub.execute_input": "2020-12-31T19:42:52.463157Z",
     "iopub.status.busy": "2020-12-31T19:42:52.461063Z",
     "iopub.status.idle": "2020-12-31T19:42:52.626288Z",
     "shell.execute_reply": "2020-12-31T19:42:52.626806Z"
    },
    "papermill": {
     "duration": 0.221599,
     "end_time": "2020-12-31T19:42:52.626944",
     "exception": false,
     "start_time": "2020-12-31T19:42:52.405345",
     "status": "completed"
    },
    "tags": []
   },
   "outputs": [
    {
     "data": {
      "text/plain": [
       "<matplotlib.collections.PathCollection at 0x7fa0f51b8c90>"
      ]
     },
     "execution_count": 14,
     "metadata": {},
     "output_type": "execute_result"
    },
    {
     "data": {
      "image/png": "[encoded data removed]",
      "text/plain": [
       "<Figure size 432x288 with 1 Axes>"
      ]
     },
     "metadata": {
      "needs_background": "light"
     },
     "output_type": "display_data"
    }
   ],
   "source": [
    "plt.scatter(housing['RM'],housing['Price'],alpha=0.3)#high positive corelation"
   ]
  },
  {
   "cell_type": "code",
   "execution_count": 15,
   "metadata": {
    "execution": {
     "iopub.execute_input": "2020-12-31T19:42:52.730117Z",
     "iopub.status.busy": "2020-12-31T19:42:52.729404Z",
     "iopub.status.idle": "2020-12-31T19:42:52.896676Z",
     "shell.execute_reply": "2020-12-31T19:42:52.895678Z"
    },
    "papermill": {
     "duration": 0.223231,
     "end_time": "2020-12-31T19:42:52.896840",
     "exception": false,
     "start_time": "2020-12-31T19:42:52.673609",
     "status": "completed"
    },
    "tags": []
   },
   "outputs": [
    {
     "data": {
      "text/plain": [
       "<matplotlib.collections.PathCollection at 0x7fa0f50bd250>"
      ]
     },
     "execution_count": 15,
     "metadata": {},
     "output_type": "execute_result"
    },
    {
     "data": {
      "image/png": "[encoded data removed]",
      "text/plain": [
       "<Figure size 432x288 with 1 Axes>"
      ]
     },
     "metadata": {
      "needs_background": "light"
     },
     "output_type": "display_data"
    }
   ],
   "source": [
    "plt.scatter(housing['LSTAT'],housing['Price'],alpha=0.3)# high negative correlation"
   ]
  },
  {
   "cell_type": "markdown",
   "metadata": {
    "papermill": {
     "duration": 0.056265,
     "end_time": "2020-12-31T19:42:53.011863",
     "exception": false,
     "start_time": "2020-12-31T19:42:52.955598",
     "status": "completed"
    },
    "tags": []
   },
   "source": [
    "## Feature Engineering"
   ]
  },
  {
   "cell_type": "code",
   "execution_count": 16,
   "metadata": {
    "execution": {
     "iopub.execute_input": "2020-12-31T19:42:53.119114Z",
     "iopub.status.busy": "2020-12-31T19:42:53.118163Z",
     "iopub.status.idle": "2020-12-31T19:42:53.145652Z",
     "shell.execute_reply": "2020-12-31T19:42:53.145095Z"
    },
    "papermill": {
     "duration": 0.083355,
     "end_time": "2020-12-31T19:42:53.145768",
     "exception": false,
     "start_time": "2020-12-31T19:42:53.062413",
     "status": "completed"
    },
    "tags": []
   },
   "outputs": [],
   "source": [
    "#we create a new column using another two columns\n",
    "housing['RMTAX']=housing['RM']/housing['TAX']"
   ]
  },
  {
   "cell_type": "code",
   "execution_count": 17,
   "metadata": {
    "execution": {
     "iopub.execute_input": "2020-12-31T19:42:53.246804Z",
     "iopub.status.busy": "2020-12-31T19:42:53.245751Z",
     "iopub.status.idle": "2020-12-31T19:42:53.267509Z",
     "shell.execute_reply": "2020-12-31T19:42:53.268050Z"
    },
    "papermill": {
     "duration": 0.073768,
     "end_time": "2020-12-31T19:42:53.268208",
     "exception": false,
     "start_time": "2020-12-31T19:42:53.194440",
     "status": "completed"
    },
    "tags": []
   },
   "outputs": [
    {
     "data": {
      "text/html": [
       "<div>\n",
       "<style scoped>\n",
       "    .dataframe tbody tr th:only-of-type {\n",
       "        vertical-align: middle;\n",
       "    }\n",
       "\n",
       "    .dataframe tbody tr th {\n",
       "        vertical-align: top;\n",
       "    }\n",
       "\n",
       "    .dataframe thead th {\n",
       "        text-align: right;\n",
       "    }\n",
       "</style>\n",
       "<table border=\"1\" class=\"dataframe\">\n",
       "  <thead>\n",
       "    <tr style=\"text-align: right;\">\n",
       "      <th></th>\n",
       "      <th>CRIM</th>\n",
       "      <th>ZN</th>\n",
       "      <th>INDUS</th>\n",
       "      <th>CHAS</th>\n",
       "      <th>NOX</th>\n",
       "      <th>RM</th>\n",
       "      <th>AGE</th>\n",
       "      <th>DIS</th>\n",
       "      <th>RAD</th>\n",
       "      <th>TAX</th>\n",
       "      <th>PTRATIO</th>\n",
       "      <th>B</th>\n",
       "      <th>LSTAT</th>\n",
       "      <th>Price</th>\n",
       "      <th>RMTAX</th>\n",
       "    </tr>\n",
       "  </thead>\n",
       "  <tbody>\n",
       "    <tr>\n",
       "      <th>0</th>\n",
       "      <td>0.00632</td>\n",
       "      <td>18.0</td>\n",
       "      <td>2.31</td>\n",
       "      <td>0</td>\n",
       "      <td>0.538</td>\n",
       "      <td>6.575</td>\n",
       "      <td>65.2</td>\n",
       "      <td>4.0900</td>\n",
       "      <td>1</td>\n",
       "      <td>296</td>\n",
       "      <td>15.3</td>\n",
       "      <td>396.90</td>\n",
       "      <td>4.98</td>\n",
       "      <td>24.0</td>\n",
       "      <td>0.022213</td>\n",
       "    </tr>\n",
       "    <tr>\n",
       "      <th>1</th>\n",
       "      <td>0.02731</td>\n",
       "      <td>0.0</td>\n",
       "      <td>7.07</td>\n",
       "      <td>0</td>\n",
       "      <td>0.469</td>\n",
       "      <td>6.421</td>\n",
       "      <td>78.9</td>\n",
       "      <td>4.9671</td>\n",
       "      <td>2</td>\n",
       "      <td>242</td>\n",
       "      <td>17.8</td>\n",
       "      <td>396.90</td>\n",
       "      <td>9.14</td>\n",
       "      <td>21.6</td>\n",
       "      <td>0.026533</td>\n",
       "    </tr>\n",
       "    <tr>\n",
       "      <th>2</th>\n",
       "      <td>0.02729</td>\n",
       "      <td>0.0</td>\n",
       "      <td>7.07</td>\n",
       "      <td>0</td>\n",
       "      <td>0.469</td>\n",
       "      <td>7.185</td>\n",
       "      <td>61.1</td>\n",
       "      <td>4.9671</td>\n",
       "      <td>2</td>\n",
       "      <td>242</td>\n",
       "      <td>17.8</td>\n",
       "      <td>392.83</td>\n",
       "      <td>4.03</td>\n",
       "      <td>34.7</td>\n",
       "      <td>0.029690</td>\n",
       "    </tr>\n",
       "    <tr>\n",
       "      <th>3</th>\n",
       "      <td>0.03237</td>\n",
       "      <td>0.0</td>\n",
       "      <td>2.18</td>\n",
       "      <td>0</td>\n",
       "      <td>0.458</td>\n",
       "      <td>6.998</td>\n",
       "      <td>45.8</td>\n",
       "      <td>6.0622</td>\n",
       "      <td>3</td>\n",
       "      <td>222</td>\n",
       "      <td>18.7</td>\n",
       "      <td>394.63</td>\n",
       "      <td>2.94</td>\n",
       "      <td>33.4</td>\n",
       "      <td>0.031523</td>\n",
       "    </tr>\n",
       "    <tr>\n",
       "      <th>4</th>\n",
       "      <td>0.06905</td>\n",
       "      <td>0.0</td>\n",
       "      <td>2.18</td>\n",
       "      <td>0</td>\n",
       "      <td>0.458</td>\n",
       "      <td>7.147</td>\n",
       "      <td>54.2</td>\n",
       "      <td>6.0622</td>\n",
       "      <td>3</td>\n",
       "      <td>222</td>\n",
       "      <td>18.7</td>\n",
       "      <td>396.90</td>\n",
       "      <td>5.33</td>\n",
       "      <td>36.2</td>\n",
       "      <td>0.032194</td>\n",
       "    </tr>\n",
       "  </tbody>\n",
       "</table>\n",
       "</div>"
      ],
      "text/plain": [
       "      CRIM    ZN  INDUS  CHAS    NOX     RM   AGE     DIS  RAD  TAX  PTRATIO  \\\n",
       "0  0.00632  18.0   2.31     0  0.538  6.575  65.2  4.0900    1  296     15.3   \n",
       "1  0.02731   0.0   7.07     0  0.469  6.421  78.9  4.9671    2  242     17.8   \n",
       "2  0.02729   0.0   7.07     0  0.469  7.185  61.1  4.9671    2  242     17.8   \n",
       "3  0.03237   0.0   2.18     0  0.458  6.998  45.8  6.0622    3  222     18.7   \n",
       "4  0.06905   0.0   2.18     0  0.458  7.147  54.2  6.0622    3  222     18.7   \n",
       "\n",
       "        B  LSTAT  Price     RMTAX  \n",
       "0  396.90   4.98   24.0  0.022213  \n",
       "1  396.90   9.14   21.6  0.026533  \n",
       "2  392.83   4.03   34.7  0.029690  \n",
       "3  394.63   2.94   33.4  0.031523  \n",
       "4  396.90   5.33   36.2  0.032194  "
      ]
     },
     "execution_count": 17,
     "metadata": {},
     "output_type": "execute_result"
    }
   ],
   "source": [
    "housing.head()#check for new added column"
   ]
  },
  {
   "cell_type": "code",
   "execution_count": 18,
   "metadata": {
    "execution": {
     "iopub.execute_input": "2020-12-31T19:42:53.372013Z",
     "iopub.status.busy": "2020-12-31T19:42:53.370963Z",
     "iopub.status.idle": "2020-12-31T19:42:53.380768Z",
     "shell.execute_reply": "2020-12-31T19:42:53.381316Z"
    },
    "papermill": {
     "duration": 0.063924,
     "end_time": "2020-12-31T19:42:53.381456",
     "exception": false,
     "start_time": "2020-12-31T19:42:53.317532",
     "status": "completed"
    },
    "tags": []
   },
   "outputs": [
    {
     "data": {
      "text/plain": [
       "Price      1.000000\n",
       "RM         0.695360\n",
       "RMTAX      0.625102\n",
       "ZN         0.360445\n",
       "B          0.333461\n",
       "DIS        0.249929\n",
       "CHAS       0.175260\n",
       "AGE       -0.376955\n",
       "RAD       -0.381626\n",
       "CRIM      -0.388305\n",
       "NOX       -0.427321\n",
       "TAX       -0.468536\n",
       "INDUS     -0.483725\n",
       "PTRATIO   -0.507787\n",
       "LSTAT     -0.737663\n",
       "Name: Price, dtype: float64"
      ]
     },
     "execution_count": 18,
     "metadata": {},
     "output_type": "execute_result"
    }
   ],
   "source": [
    "# correlation after adding new coulmn and we can see that RMTAX has a good positive correlation \n",
    "corr_matrix=housing.corr()\n",
    "corr_matrix['Price'].sort_values(ascending=False)"
   ]
  },
  {
   "cell_type": "code",
   "execution_count": 19,
   "metadata": {
    "execution": {
     "iopub.execute_input": "2020-12-31T19:42:53.485892Z",
     "iopub.status.busy": "2020-12-31T19:42:53.484711Z",
     "iopub.status.idle": "2020-12-31T19:42:54.505808Z",
     "shell.execute_reply": "2020-12-31T19:42:54.506349Z"
    },
    "papermill": {
     "duration": 1.075228,
     "end_time": "2020-12-31T19:42:54.506495",
     "exception": false,
     "start_time": "2020-12-31T19:42:53.431267",
     "status": "completed"
    },
    "tags": []
   },
   "outputs": [
    {
     "data": {
      "text/plain": [
       "<matplotlib.axes._subplots.AxesSubplot at 0x7fa0f503b190>"
      ]
     },
     "execution_count": 19,
     "metadata": {},
     "output_type": "execute_result"
    },
    {
     "data": {
      "image/png": "[encoded data removed]",
      "text/plain": [
       "<Figure size 1080x1080 with 1 Axes>"
      ]
     },
     "metadata": {
      "needs_background": "light"
     },
     "output_type": "display_data"
    }
   ],
   "source": [
    "#plotting the heatmap of correlation between features\n",
    "plt.figure(figsize=(15,15))\n",
    "sns.heatmap(corr_matrix, cbar=False, square= True, fmt=\".2%\", annot=True, cmap=\"Greens\")"
   ]
  },
  {
   "cell_type": "markdown",
   "metadata": {
    "papermill": {
     "duration": 0.0559,
     "end_time": "2020-12-31T19:42:54.618427",
     "exception": false,
     "start_time": "2020-12-31T19:42:54.562527",
     "status": "completed"
    },
    "tags": []
   },
   "source": [
    "# *Train Test split  the dataset*"
   ]
  },
  {
   "cell_type": "code",
   "execution_count": 20,
   "metadata": {
    "execution": {
     "iopub.execute_input": "2020-12-31T19:42:54.732774Z",
     "iopub.status.busy": "2020-12-31T19:42:54.731949Z",
     "iopub.status.idle": "2020-12-31T19:42:54.754338Z",
     "shell.execute_reply": "2020-12-31T19:42:54.754887Z"
    },
    "papermill": {
     "duration": 0.081905,
     "end_time": "2020-12-31T19:42:54.755058",
     "exception": false,
     "start_time": "2020-12-31T19:42:54.673153",
     "status": "completed"
    },
    "tags": []
   },
   "outputs": [],
   "source": [
    "from sklearn.model_selection import train_test_split #import library for train_test_split"
   ]
  },
  {
   "cell_type": "code",
   "execution_count": 21,
   "metadata": {
    "execution": {
     "iopub.execute_input": "2020-12-31T19:42:54.869833Z",
     "iopub.status.busy": "2020-12-31T19:42:54.869122Z",
     "iopub.status.idle": "2020-12-31T19:42:54.875546Z",
     "shell.execute_reply": "2020-12-31T19:42:54.876081Z"
    },
    "papermill": {
     "duration": 0.065516,
     "end_time": "2020-12-31T19:42:54.876369",
     "exception": false,
     "start_time": "2020-12-31T19:42:54.810853",
     "status": "completed"
    },
    "tags": []
   },
   "outputs": [],
   "source": [
    "X=housing.drop('Price',axis=1)#independent variable\n",
    "y=housing['Price'].copy()#target variable"
   ]
  },
  {
   "cell_type": "code",
   "execution_count": 22,
   "metadata": {
    "execution": {
     "iopub.execute_input": "2020-12-31T19:42:54.991364Z",
     "iopub.status.busy": "2020-12-31T19:42:54.990457Z",
     "iopub.status.idle": "2020-12-31T19:42:54.999232Z",
     "shell.execute_reply": "2020-12-31T19:42:54.999776Z"
    },
    "papermill": {
     "duration": 0.068021,
     "end_time": "2020-12-31T19:42:54.999946",
     "exception": false,
     "start_time": "2020-12-31T19:42:54.931925",
     "status": "completed"
    },
    "tags": []
   },
   "outputs": [],
   "source": [
    "#split the dataset\n",
    "X_train, X_test, y_train, y_test=train_test_split(X,y,test_size=0.2,random_state=42)"
   ]
  },
  {
   "cell_type": "markdown",
   "metadata": {
    "papermill": {
     "duration": 0.055097,
     "end_time": "2020-12-31T19:42:55.110644",
     "exception": false,
     "start_time": "2020-12-31T19:42:55.055547",
     "status": "completed"
    },
    "tags": []
   },
   "source": [
    "Shape of split data:"
   ]
  },
  {
   "cell_type": "code",
   "execution_count": 23,
   "metadata": {
    "execution": {
     "iopub.execute_input": "2020-12-31T19:42:55.236014Z",
     "iopub.status.busy": "2020-12-31T19:42:55.235299Z",
     "iopub.status.idle": "2020-12-31T19:42:55.240152Z",
     "shell.execute_reply": "2020-12-31T19:42:55.239534Z"
    },
    "papermill": {
     "duration": 0.074332,
     "end_time": "2020-12-31T19:42:55.240330",
     "exception": false,
     "start_time": "2020-12-31T19:42:55.165998",
     "status": "completed"
    },
    "tags": []
   },
   "outputs": [
    {
     "data": {
      "text/plain": [
       "(404, 14)"
      ]
     },
     "execution_count": 23,
     "metadata": {},
     "output_type": "execute_result"
    }
   ],
   "source": [
    "X_train.shape"
   ]
  },
  {
   "cell_type": "code",
   "execution_count": 24,
   "metadata": {
    "execution": {
     "iopub.execute_input": "2020-12-31T19:42:55.358755Z",
     "iopub.status.busy": "2020-12-31T19:42:55.357942Z",
     "iopub.status.idle": "2020-12-31T19:42:55.364465Z",
     "shell.execute_reply": "2020-12-31T19:42:55.365133Z"
    },
    "papermill": {
     "duration": 0.066861,
     "end_time": "2020-12-31T19:42:55.365306",
     "exception": false,
     "start_time": "2020-12-31T19:42:55.298445",
     "status": "completed"
    },
    "tags": []
   },
   "outputs": [
    {
     "data": {
      "text/plain": [
       "(102, 14)"
      ]
     },
     "execution_count": 24,
     "metadata": {},
     "output_type": "execute_result"
    }
   ],
   "source": [
    "X_test.shape"
   ]
  },
  {
   "cell_type": "code",
   "execution_count": 25,
   "metadata": {
    "execution": {
     "iopub.execute_input": "2020-12-31T19:42:55.479997Z",
     "iopub.status.busy": "2020-12-31T19:42:55.479330Z",
     "iopub.status.idle": "2020-12-31T19:42:55.484455Z",
     "shell.execute_reply": "2020-12-31T19:42:55.485043Z"
    },
    "papermill": {
     "duration": 0.064103,
     "end_time": "2020-12-31T19:42:55.485234",
     "exception": false,
     "start_time": "2020-12-31T19:42:55.421131",
     "status": "completed"
    },
    "tags": []
   },
   "outputs": [
    {
     "data": {
      "text/plain": [
       "(404,)"
      ]
     },
     "execution_count": 25,
     "metadata": {},
     "output_type": "execute_result"
    }
   ],
   "source": [
    "y_train.shape"
   ]
  },
  {
   "cell_type": "code",
   "execution_count": 26,
   "metadata": {
    "execution": {
     "iopub.execute_input": "2020-12-31T19:42:55.604482Z",
     "iopub.status.busy": "2020-12-31T19:42:55.603714Z",
     "iopub.status.idle": "2020-12-31T19:42:55.608668Z",
     "shell.execute_reply": "2020-12-31T19:42:55.609165Z"
    },
    "papermill": {
     "duration": 0.065549,
     "end_time": "2020-12-31T19:42:55.609348",
     "exception": false,
     "start_time": "2020-12-31T19:42:55.543799",
     "status": "completed"
    },
    "tags": []
   },
   "outputs": [
    {
     "data": {
      "text/plain": [
       "(102,)"
      ]
     },
     "execution_count": 26,
     "metadata": {},
     "output_type": "execute_result"
    }
   ],
   "source": [
    "y_test.shape"
   ]
  },
  {
   "cell_type": "markdown",
   "metadata": {
    "papermill": {
     "duration": 0.057581,
     "end_time": "2020-12-31T19:42:55.724755",
     "exception": false,
     "start_time": "2020-12-31T19:42:55.667174",
     "status": "completed"
    },
    "tags": []
   },
   "source": [
    "# Trying different models\n"
   ]
  },
  {
   "cell_type": "markdown",
   "metadata": {
    "papermill": {
     "duration": 0.057643,
     "end_time": "2020-12-31T19:42:55.840275",
     "exception": false,
     "start_time": "2020-12-31T19:42:55.782632",
     "status": "completed"
    },
    "tags": []
   },
   "source": [
    "## *1. Linear Regression*"
   ]
  },
  {
   "cell_type": "code",
   "execution_count": 27,
   "metadata": {
    "execution": {
     "iopub.execute_input": "2020-12-31T19:42:55.957520Z",
     "iopub.status.busy": "2020-12-31T19:42:55.956767Z",
     "iopub.status.idle": "2020-12-31T19:42:56.116394Z",
     "shell.execute_reply": "2020-12-31T19:42:56.117156Z"
    },
    "papermill": {
     "duration": 0.220508,
     "end_time": "2020-12-31T19:42:56.117357",
     "exception": false,
     "start_time": "2020-12-31T19:42:55.896849",
     "status": "completed"
    },
    "tags": []
   },
   "outputs": [
    {
     "data": {
      "text/plain": [
       "LinearRegression()"
      ]
     },
     "execution_count": 27,
     "metadata": {},
     "output_type": "execute_result"
    }
   ],
   "source": [
    "from sklearn.linear_model import LinearRegression\n",
    "model=LinearRegression()#create the model\n",
    "model.fit(X_train,y_train)#fit the model"
   ]
  },
  {
   "cell_type": "code",
   "execution_count": 28,
   "metadata": {
    "execution": {
     "iopub.execute_input": "2020-12-31T19:42:56.243697Z",
     "iopub.status.busy": "2020-12-31T19:42:56.242623Z",
     "iopub.status.idle": "2020-12-31T19:42:56.245405Z",
     "shell.execute_reply": "2020-12-31T19:42:56.245916Z"
    },
    "papermill": {
     "duration": 0.067454,
     "end_time": "2020-12-31T19:42:56.246056",
     "exception": false,
     "start_time": "2020-12-31T19:42:56.178602",
     "status": "completed"
    },
    "tags": []
   },
   "outputs": [],
   "source": [
    "# predict the model\n",
    "y_pred = model.predict(X_test) "
   ]
  },
  {
   "cell_type": "code",
   "execution_count": 29,
   "metadata": {
    "execution": {
     "iopub.execute_input": "2020-12-31T19:42:56.365342Z",
     "iopub.status.busy": "2020-12-31T19:42:56.364327Z",
     "iopub.status.idle": "2020-12-31T19:42:56.378790Z",
     "shell.execute_reply": "2020-12-31T19:42:56.377825Z"
    },
    "papermill": {
     "duration": 0.074919,
     "end_time": "2020-12-31T19:42:56.378949",
     "exception": false,
     "start_time": "2020-12-31T19:42:56.304030",
     "status": "completed"
    },
    "tags": []
   },
   "outputs": [
    {
     "name": "stdout",
     "output_type": "stream",
     "text": [
      "Training Accuracy :  76.70860442912466\n",
      "Testing Accuracy :  68.5242734235767\n"
     ]
    }
   ],
   "source": [
    "#Accuracy of model\n",
    "regTrain_score=model.score(X_train,y_train)*100\n",
    "regTest_score=model.score(X_test,y_test)*100\n",
    "print(\"Training Accuracy : \",regTrain_score)\n",
    "print(\"Testing Accuracy : \",regTest_score)"
   ]
  },
  {
   "cell_type": "markdown",
   "metadata": {
    "papermill": {
     "duration": 0.059979,
     "end_time": "2020-12-31T19:42:56.498165",
     "exception": false,
     "start_time": "2020-12-31T19:42:56.438186",
     "status": "completed"
    },
    "tags": []
   },
   "source": [
    "# *Model evaluation*"
   ]
  },
  {
   "cell_type": "code",
   "execution_count": 30,
   "metadata": {
    "execution": {
     "iopub.execute_input": "2020-12-31T19:42:56.628714Z",
     "iopub.status.busy": "2020-12-31T19:42:56.627669Z",
     "iopub.status.idle": "2020-12-31T19:42:56.631336Z",
     "shell.execute_reply": "2020-12-31T19:42:56.631901Z"
    },
    "papermill": {
     "duration": 0.074147,
     "end_time": "2020-12-31T19:42:56.632050",
     "exception": false,
     "start_time": "2020-12-31T19:42:56.557903",
     "status": "completed"
    },
    "tags": []
   },
   "outputs": [
    {
     "name": "stdout",
     "output_type": "stream",
     "text": [
      "Mean Absolute Error:  3.138763883804843\n",
      "Mean Square Error :  23.08234107569041\n",
      "Root Mean Square Error :  4.8044085042479905\n"
     ]
    }
   ],
   "source": [
    "#we use here MAE, MSE & RMSE for model evaluation \n",
    "Reg_mse = metrics.mean_squared_error(y_test, y_pred) \n",
    "Reg_rmse=np.sqrt(Reg_mse)\n",
    "Reg_mae=metrics.mean_absolute_error(y_test, y_pred)\n",
    "print(\"Mean Absolute Error: \", Reg_mae)\n",
    "print(\"Mean Square Error : \",Reg_mse) \n",
    "print(\"Root Mean Square Error : \",Reg_rmse) "
   ]
  },
  {
   "cell_type": "markdown",
   "metadata": {
    "papermill": {
     "duration": 0.058367,
     "end_time": "2020-12-31T19:42:56.748855",
     "exception": false,
     "start_time": "2020-12-31T19:42:56.690488",
     "status": "completed"
    },
    "tags": []
   },
   "source": [
    "# *Model Visualisation*"
   ]
  },
  {
   "cell_type": "code",
   "execution_count": 31,
   "metadata": {
    "execution": {
     "iopub.execute_input": "2020-12-31T19:42:56.881557Z",
     "iopub.status.busy": "2020-12-31T19:42:56.880185Z",
     "iopub.status.idle": "2020-12-31T19:42:57.029376Z",
     "shell.execute_reply": "2020-12-31T19:42:57.028305Z"
    },
    "papermill": {
     "duration": 0.221397,
     "end_time": "2020-12-31T19:42:57.029506",
     "exception": false,
     "start_time": "2020-12-31T19:42:56.808109",
     "status": "completed"
    },
    "tags": []
   },
   "outputs": [
    {
     "data": {
      "image/png": "[encoded data removed]",
      "text/plain": [
       "<Figure size 432x288 with 1 Axes>"
      ]
     },
     "metadata": {
      "needs_background": "light"
     },
     "output_type": "display_data"
    }
   ],
   "source": [
    "# Plotting Scatter graph to show the results between true values and predicted values\n",
    "plt.scatter(y_test, y_pred, c = 'red') \n",
    "plt.xlabel(\"Price: in $1000's\") \n",
    "plt.ylabel(\"Predicted values\") \n",
    "plt.title(\"Results: Linear Regression\") \n",
    "plt.show() "
   ]
  },
  {
   "cell_type": "markdown",
   "metadata": {
    "papermill": {
     "duration": 0.059667,
     "end_time": "2020-12-31T19:42:57.149294",
     "exception": false,
     "start_time": "2020-12-31T19:42:57.089627",
     "status": "completed"
    },
    "tags": []
   },
   "source": [
    "## *2. Decision Tree*"
   ]
  },
  {
   "cell_type": "code",
   "execution_count": 32,
   "metadata": {
    "execution": {
     "iopub.execute_input": "2020-12-31T19:42:57.275826Z",
     "iopub.status.busy": "2020-12-31T19:42:57.275075Z",
     "iopub.status.idle": "2020-12-31T19:42:57.396817Z",
     "shell.execute_reply": "2020-12-31T19:42:57.396098Z"
    },
    "papermill": {
     "duration": 0.187886,
     "end_time": "2020-12-31T19:42:57.396931",
     "exception": false,
     "start_time": "2020-12-31T19:42:57.209045",
     "status": "completed"
    },
    "tags": []
   },
   "outputs": [
    {
     "data": {
      "text/plain": [
       "DecisionTreeRegressor(random_state=0)"
      ]
     },
     "execution_count": 32,
     "metadata": {},
     "output_type": "execute_result"
    }
   ],
   "source": [
    "from sklearn.tree import DecisionTreeRegressor \n",
    "Des_Tree = DecisionTreeRegressor(random_state = 0) #create the Des_Tree object\n",
    "# fit the regressor with X and Y data \n",
    "Des_Tree.fit(X_train, y_train) "
   ]
  },
  {
   "cell_type": "code",
   "execution_count": 33,
   "metadata": {
    "execution": {
     "iopub.execute_input": "2020-12-31T19:42:57.526967Z",
     "iopub.status.busy": "2020-12-31T19:42:57.525850Z",
     "iopub.status.idle": "2020-12-31T19:42:57.529161Z",
     "shell.execute_reply": "2020-12-31T19:42:57.528517Z"
    },
    "papermill": {
     "duration": 0.071806,
     "end_time": "2020-12-31T19:42:57.529310",
     "exception": false,
     "start_time": "2020-12-31T19:42:57.457504",
     "status": "completed"
    },
    "tags": []
   },
   "outputs": [],
   "source": [
    "# predict the Des_Tree Model\n",
    "y_pred = Des_Tree.predict(X_test) "
   ]
  },
  {
   "cell_type": "code",
   "execution_count": 34,
   "metadata": {
    "execution": {
     "iopub.execute_input": "2020-12-31T19:42:57.661506Z",
     "iopub.status.busy": "2020-12-31T19:42:57.660724Z",
     "iopub.status.idle": "2020-12-31T19:42:57.664901Z",
     "shell.execute_reply": "2020-12-31T19:42:57.665414Z"
    },
    "papermill": {
     "duration": 0.076272,
     "end_time": "2020-12-31T19:42:57.665570",
     "exception": false,
     "start_time": "2020-12-31T19:42:57.589298",
     "status": "completed"
    },
    "tags": []
   },
   "outputs": [
    {
     "name": "stdout",
     "output_type": "stream",
     "text": [
      "Training Accuracy :  100.0\n",
      "Testing Accuracy :  85.78551499920023\n"
     ]
    }
   ],
   "source": [
    "#Accuracy of model\n",
    "DesTrain_score=Des_Tree.score(X_train,y_train)*100\n",
    "DesTest_score=Des_Tree.score(X_test,y_test)*100\n",
    "print(\"Training Accuracy : \",DesTrain_score)\n",
    "print(\"Testing Accuracy : \",DesTest_score)"
   ]
  },
  {
   "cell_type": "markdown",
   "metadata": {
    "papermill": {
     "duration": 0.061368,
     "end_time": "2020-12-31T19:42:57.787325",
     "exception": false,
     "start_time": "2020-12-31T19:42:57.725957",
     "status": "completed"
    },
    "tags": []
   },
   "source": [
    "# *Model evaluation*"
   ]
  },
  {
   "cell_type": "code",
   "execution_count": 35,
   "metadata": {
    "execution": {
     "iopub.execute_input": "2020-12-31T19:42:57.920645Z",
     "iopub.status.busy": "2020-12-31T19:42:57.919874Z",
     "iopub.status.idle": "2020-12-31T19:42:57.923822Z",
     "shell.execute_reply": "2020-12-31T19:42:57.924387Z"
    },
    "papermill": {
     "duration": 0.07543,
     "end_time": "2020-12-31T19:42:57.924533",
     "exception": false,
     "start_time": "2020-12-31T19:42:57.849103",
     "status": "completed"
    },
    "tags": []
   },
   "outputs": [
    {
     "name": "stdout",
     "output_type": "stream",
     "text": [
      "Mean Absolute Error:  2.3911764705882352\n",
      "Mean Square Error :  10.424019607843137\n",
      "Root Mean Square Error :  3.2286250336394184\n"
     ]
    }
   ],
   "source": [
    "#we use here MAE, MSE & RMSE for model evaluation \n",
    "Des_mse = metrics.mean_squared_error(y_test, y_pred) \n",
    "Des_rmse=np.sqrt(Des_mse)\n",
    "Des_mae=metrics.mean_absolute_error(y_test, y_pred)\n",
    "print(\"Mean Absolute Error: \", Des_mae)\n",
    "print(\"Mean Square Error : \",Des_mse) \n",
    "print(\"Root Mean Square Error : \",Des_rmse) "
   ]
  },
  {
   "cell_type": "markdown",
   "metadata": {
    "papermill": {
     "duration": 0.061848,
     "end_time": "2020-12-31T19:42:58.047894",
     "exception": false,
     "start_time": "2020-12-31T19:42:57.986046",
     "status": "completed"
    },
    "tags": []
   },
   "source": [
    "# *Model Visualisation*"
   ]
  },
  {
   "cell_type": "code",
   "execution_count": 36,
   "metadata": {
    "execution": {
     "iopub.execute_input": "2020-12-31T19:42:58.184056Z",
     "iopub.status.busy": "2020-12-31T19:42:58.178480Z",
     "iopub.status.idle": "2020-12-31T19:42:58.327613Z",
     "shell.execute_reply": "2020-12-31T19:42:58.328114Z"
    },
    "papermill": {
     "duration": 0.217587,
     "end_time": "2020-12-31T19:42:58.328286",
     "exception": false,
     "start_time": "2020-12-31T19:42:58.110699",
     "status": "completed"
    },
    "tags": []
   },
   "outputs": [
    {
     "data": {
      "image/png": "[encoded data removed]",
      "text/plain": [
       "<Figure size 432x288 with 1 Axes>"
      ]
     },
     "metadata": {
      "needs_background": "light"
     },
     "output_type": "display_data"
    }
   ],
   "source": [
    "# Plotting Scatter graph to show the results between true values and predicted values\n",
    "plt.scatter(y_test, y_pred, c = 'red') \n",
    "plt.xlabel(\"Price: in $1000's\") \n",
    "plt.ylabel(\"Predicted values\") \n",
    "plt.title(\"Results: Decision Tree\") \n",
    "plt.show() "
   ]
  },
  {
   "cell_type": "markdown",
   "metadata": {
    "papermill": {
     "duration": 0.061219,
     "end_time": "2020-12-31T19:42:58.451985",
     "exception": false,
     "start_time": "2020-12-31T19:42:58.390766",
     "status": "completed"
    },
    "tags": []
   },
   "source": [
    "## *3. Random Forest*"
   ]
  },
  {
   "cell_type": "code",
   "execution_count": 37,
   "metadata": {
    "execution": {
     "iopub.execute_input": "2020-12-31T19:42:58.584271Z",
     "iopub.status.busy": "2020-12-31T19:42:58.583476Z",
     "iopub.status.idle": "2020-12-31T19:42:58.618632Z",
     "shell.execute_reply": "2020-12-31T19:42:58.617871Z"
    },
    "papermill": {
     "duration": 0.104277,
     "end_time": "2020-12-31T19:42:58.618751",
     "exception": false,
     "start_time": "2020-12-31T19:42:58.514474",
     "status": "completed"
    },
    "tags": []
   },
   "outputs": [],
   "source": [
    "from sklearn.ensemble import RandomForestRegressor\n",
    "regressor = RandomForestRegressor(n_estimators = 100, random_state = 0) #create the object"
   ]
  },
  {
   "cell_type": "code",
   "execution_count": 38,
   "metadata": {
    "execution": {
     "iopub.execute_input": "2020-12-31T19:42:58.747037Z",
     "iopub.status.busy": "2020-12-31T19:42:58.746347Z",
     "iopub.status.idle": "2020-12-31T19:42:59.162070Z",
     "shell.execute_reply": "2020-12-31T19:42:59.161377Z"
    },
    "papermill": {
     "duration": 0.481251,
     "end_time": "2020-12-31T19:42:59.162213",
     "exception": false,
     "start_time": "2020-12-31T19:42:58.680962",
     "status": "completed"
    },
    "tags": []
   },
   "outputs": [
    {
     "data": {
      "text/plain": [
       "RandomForestRegressor(random_state=0)"
      ]
     },
     "execution_count": 38,
     "metadata": {},
     "output_type": "execute_result"
    }
   ],
   "source": [
    "regressor.fit(X_train, y_train)  # fit the object"
   ]
  },
  {
   "cell_type": "code",
   "execution_count": 39,
   "metadata": {
    "execution": {
     "iopub.execute_input": "2020-12-31T19:42:59.298849Z",
     "iopub.status.busy": "2020-12-31T19:42:59.297761Z",
     "iopub.status.idle": "2020-12-31T19:42:59.312427Z",
     "shell.execute_reply": "2020-12-31T19:42:59.311791Z"
    },
    "papermill": {
     "duration": 0.087476,
     "end_time": "2020-12-31T19:42:59.312544",
     "exception": false,
     "start_time": "2020-12-31T19:42:59.225068",
     "status": "completed"
    },
    "tags": []
   },
   "outputs": [],
   "source": [
    "y_pred=regressor.predict(X_test)# predict the regressor"
   ]
  },
  {
   "cell_type": "code",
   "execution_count": 40,
   "metadata": {
    "execution": {
     "iopub.execute_input": "2020-12-31T19:42:59.448314Z",
     "iopub.status.busy": "2020-12-31T19:42:59.447129Z",
     "iopub.status.idle": "2020-12-31T19:42:59.479587Z",
     "shell.execute_reply": "2020-12-31T19:42:59.480142Z"
    },
    "papermill": {
     "duration": 0.104988,
     "end_time": "2020-12-31T19:42:59.480321",
     "exception": false,
     "start_time": "2020-12-31T19:42:59.375333",
     "status": "completed"
    },
    "tags": []
   },
   "outputs": [
    {
     "name": "stdout",
     "output_type": "stream",
     "text": [
      "Training Accuracy :  97.46383075852975\n",
      "Testing Accuracy :  87.89216230428909\n"
     ]
    }
   ],
   "source": [
    "#Accuracy of model\n",
    "Random_Train_score=regressor.score(X_train,y_train)*100\n",
    "Random_Test_score=regressor.score(X_test,y_test)*100\n",
    "print(\"Training Accuracy : \",Random_Train_score)\n",
    "print(\"Testing Accuracy : \",Random_Test_score)"
   ]
  },
  {
   "cell_type": "markdown",
   "metadata": {
    "papermill": {
     "duration": 0.064426,
     "end_time": "2020-12-31T19:42:59.609061",
     "exception": false,
     "start_time": "2020-12-31T19:42:59.544635",
     "status": "completed"
    },
    "tags": []
   },
   "source": [
    "# *Model Evaluation*"
   ]
  },
  {
   "cell_type": "code",
   "execution_count": 41,
   "metadata": {
    "execution": {
     "iopub.execute_input": "2020-12-31T19:42:59.747740Z",
     "iopub.status.busy": "2020-12-31T19:42:59.746643Z",
     "iopub.status.idle": "2020-12-31T19:42:59.750481Z",
     "shell.execute_reply": "2020-12-31T19:42:59.751010Z"
    },
    "papermill": {
     "duration": 0.075565,
     "end_time": "2020-12-31T19:42:59.751151",
     "exception": false,
     "start_time": "2020-12-31T19:42:59.675586",
     "status": "completed"
    },
    "tags": []
   },
   "outputs": [
    {
     "name": "stdout",
     "output_type": "stream",
     "text": [
      "Mean Absolute Error:  2.1287156862745107\n",
      "Mean Square Error :  8.87913544117648\n",
      "Root Mean Square Error :  2.9797878181468693\n"
     ]
    }
   ],
   "source": [
    "#we use here MAE, MSE & RMSE for model evaluation \n",
    "Random_mse = metrics.mean_squared_error(y_test, y_pred) \n",
    "Random_rmse=np.sqrt(Random_mse)\n",
    "Random_mae=metrics.mean_absolute_error(y_test, y_pred)\n",
    "print(\"Mean Absolute Error: \", Random_mae)\n",
    "print(\"Mean Square Error : \",Random_mse) \n",
    "print(\"Root Mean Square Error : \",Random_rmse) "
   ]
  },
  {
   "cell_type": "markdown",
   "metadata": {
    "papermill": {
     "duration": 0.0638,
     "end_time": "2020-12-31T19:42:59.879301",
     "exception": false,
     "start_time": "2020-12-31T19:42:59.815501",
     "status": "completed"
    },
    "tags": []
   },
   "source": [
    "# *Model Visualisation*"
   ]
  },
  {
   "cell_type": "code",
   "execution_count": 42,
   "metadata": {
    "execution": {
     "iopub.execute_input": "2020-12-31T19:43:00.027808Z",
     "iopub.status.busy": "2020-12-31T19:43:00.015267Z",
     "iopub.status.idle": "2020-12-31T19:43:00.176822Z",
     "shell.execute_reply": "2020-12-31T19:43:00.177390Z"
    },
    "papermill": {
     "duration": 0.233526,
     "end_time": "2020-12-31T19:43:00.177538",
     "exception": false,
     "start_time": "2020-12-31T19:42:59.944012",
     "status": "completed"
    },
    "tags": []
   },
   "outputs": [
    {
     "data": {
      "image/png": "[encoded data removed]",
      "text/plain": [
       "<Figure size 432x288 with 1 Axes>"
      ]
     },
     "metadata": {
      "needs_background": "light"
     },
     "output_type": "display_data"
    }
   ],
   "source": [
    "# Plotting Scatter graph to show the results between true values and predicted values\n",
    "plt.scatter(y_test, y_pred, c = 'red') \n",
    "plt.xlabel(\"Price: in $1000's\") \n",
    "plt.ylabel(\"Predicted values\") \n",
    "plt.title(\"Results: Random Forest\") \n",
    "plt.show() "
   ]
  },
  {
   "cell_type": "markdown",
   "metadata": {
    "papermill": {
     "duration": 0.064409,
     "end_time": "2020-12-31T19:43:00.308852",
     "exception": false,
     "start_time": "2020-12-31T19:43:00.244443",
     "status": "completed"
    },
    "tags": []
   },
   "source": [
    "### ***Comparing all the models:***"
   ]
  },
  {
   "cell_type": "code",
   "execution_count": 43,
   "metadata": {
    "execution": {
     "iopub.execute_input": "2020-12-31T19:43:00.454431Z",
     "iopub.status.busy": "2020-12-31T19:43:00.453438Z",
     "iopub.status.idle": "2020-12-31T19:43:00.458802Z",
     "shell.execute_reply": "2020-12-31T19:43:00.458120Z"
    },
    "papermill": {
     "duration": 0.085197,
     "end_time": "2020-12-31T19:43:00.458916",
     "exception": false,
     "start_time": "2020-12-31T19:43:00.373719",
     "status": "completed"
    },
    "tags": []
   },
   "outputs": [
    {
     "data": {
      "text/html": [
       "<div>\n",
       "<style scoped>\n",
       "    .dataframe tbody tr th:only-of-type {\n",
       "        vertical-align: middle;\n",
       "    }\n",
       "\n",
       "    .dataframe tbody tr th {\n",
       "        vertical-align: top;\n",
       "    }\n",
       "\n",
       "    .dataframe thead th {\n",
       "        text-align: right;\n",
       "    }\n",
       "</style>\n",
       "<table border=\"1\" class=\"dataframe\">\n",
       "  <thead>\n",
       "    <tr style=\"text-align: right;\">\n",
       "      <th></th>\n",
       "      <th>Model</th>\n",
       "      <th>RMSE</th>\n",
       "      <th>Test_Accuracy</th>\n",
       "    </tr>\n",
       "  </thead>\n",
       "  <tbody>\n",
       "    <tr>\n",
       "      <th>0</th>\n",
       "      <td>Linear Regression</td>\n",
       "      <td>4.804409</td>\n",
       "      <td>68.524273</td>\n",
       "    </tr>\n",
       "    <tr>\n",
       "      <th>1</th>\n",
       "      <td>Decision Tree</td>\n",
       "      <td>3.228625</td>\n",
       "      <td>85.785515</td>\n",
       "    </tr>\n",
       "    <tr>\n",
       "      <th>2</th>\n",
       "      <td>Random Forest</td>\n",
       "      <td>2.979788</td>\n",
       "      <td>87.892162</td>\n",
       "    </tr>\n",
       "  </tbody>\n",
       "</table>\n",
       "</div>"
      ],
      "text/plain": [
       "               Model      RMSE  Test_Accuracy\n",
       "0  Linear Regression  4.804409      68.524273\n",
       "1      Decision Tree  3.228625      85.785515\n",
       "2      Random Forest  2.979788      87.892162"
      ]
     },
     "execution_count": 43,
     "metadata": {},
     "output_type": "execute_result"
    }
   ],
   "source": [
    "models = pd.DataFrame({\n",
    "    'Model': ['Linear Regression','Decision Tree','Random Forest'],\n",
    "    'RMSE': [Reg_rmse, Des_rmse, Random_rmse],'Test_Accuracy': [regTest_score,DesTest_score,Random_Test_score]})\n",
    "models.sort_values(by='RMSE', ascending=False)"
   ]
  },
  {
   "cell_type": "markdown",
   "metadata": {
    "papermill": {
     "duration": 0.066559,
     "end_time": "2020-12-31T19:43:00.590912",
     "exception": false,
     "start_time": "2020-12-31T19:43:00.524353",
     "status": "completed"
    },
    "tags": []
   },
   "source": [
    "**From above comparison we can say that Random Forest is more suitable for price prediction between all three models.**"
   ]
  },
  {
   "cell_type": "code",
   "execution_count": null,
   "metadata": {
    "papermill": {
     "duration": 0.064316,
     "end_time": "2020-12-31T19:43:00.720451",
     "exception": false,
     "start_time": "2020-12-31T19:43:00.656135",
     "status": "completed"
    },
    "tags": []
   },
   "outputs": [],
   "source": []
  }
 ],
 "metadata": {
  "kernelspec": {
   "display_name": "Python 3",
   "language": "python",
   "name": "python3"
  },
  "language_info": {
   "codemirror_mode": {
    "name": "ipython",
    "version": 3
   },
   "file_extension": ".py",
   "mimetype": "text/x-python",
   "name": "python",
   "nbconvert_exporter": "python",
   "pygments_lexer": "ipython3",
   "version": "3.7.6"
  },
  "papermill": {
   "duration": 17.607972,
   "end_time": "2020-12-31T19:43:00.894169",
   "environment_variables": {},
   "exception": null,
   "input_path": "__notebook__.ipynb",
   "output_path": "__notebook__.ipynb",
   "parameters": {},
   "start_time": "2020-12-31T19:42:43.286197",
   "version": "2.1.0"
  }
 },
 "nbformat": 4,
 "nbformat_minor": 4
}
